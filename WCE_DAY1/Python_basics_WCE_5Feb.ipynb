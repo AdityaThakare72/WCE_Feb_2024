{
 "cells": [
  {
   "cell_type": "code",
   "execution_count": 1,
   "id": "5cc573f1",
   "metadata": {},
   "outputs": [
    {
     "name": "stdout",
     "output_type": "stream",
     "text": [
      "hello world\n"
     ]
    }
   ],
   "source": [
    "print('hello world')"
   ]
  },
  {
   "cell_type": "code",
   "execution_count": 17,
   "id": "ccf4cae8",
   "metadata": {},
   "outputs": [],
   "source": [
    "num = 78"
   ]
  },
  {
   "cell_type": "code",
   "execution_count": 3,
   "id": "44959bcc",
   "metadata": {},
   "outputs": [
    {
     "data": {
      "text/plain": [
       "int"
      ]
     },
     "execution_count": 3,
     "metadata": {},
     "output_type": "execute_result"
    }
   ],
   "source": [
    "type(num)"
   ]
  },
  {
   "cell_type": "code",
   "execution_count": 4,
   "id": "e6b223e8",
   "metadata": {},
   "outputs": [],
   "source": [
    "num1 = 55.99"
   ]
  },
  {
   "cell_type": "code",
   "execution_count": 5,
   "id": "096e9a94",
   "metadata": {},
   "outputs": [
    {
     "data": {
      "text/plain": [
       "float"
      ]
     },
     "execution_count": 5,
     "metadata": {},
     "output_type": "execute_result"
    }
   ],
   "source": [
    "type(num1)"
   ]
  },
  {
   "cell_type": "code",
   "execution_count": 6,
   "id": "d6e89823",
   "metadata": {},
   "outputs": [],
   "source": [
    "name = \"Aditya\""
   ]
  },
  {
   "cell_type": "code",
   "execution_count": 7,
   "id": "36d0c07c",
   "metadata": {},
   "outputs": [
    {
     "data": {
      "text/plain": [
       "str"
      ]
     },
     "execution_count": 7,
     "metadata": {},
     "output_type": "execute_result"
    }
   ],
   "source": [
    "type(name)"
   ]
  },
  {
   "cell_type": "code",
   "execution_count": 8,
   "id": "baf800a2",
   "metadata": {},
   "outputs": [
    {
     "ename": "SyntaxError",
     "evalue": "cannot assign to False (1897359481.py, line 1)",
     "output_type": "error",
     "traceback": [
      "\u001b[0;36m  Cell \u001b[0;32mIn[8], line 1\u001b[0;36m\u001b[0m\n\u001b[0;31m    False = 76\u001b[0m\n\u001b[0m    ^\u001b[0m\n\u001b[0;31mSyntaxError\u001b[0m\u001b[0;31m:\u001b[0m cannot assign to False\n"
     ]
    }
   ],
   "source": [
    "False = 76"
   ]
  },
  {
   "cell_type": "code",
   "execution_count": 9,
   "id": "51e30f23",
   "metadata": {},
   "outputs": [],
   "source": [
    "num = 45 + 50"
   ]
  },
  {
   "cell_type": "code",
   "execution_count": 10,
   "id": "99bc518e",
   "metadata": {},
   "outputs": [
    {
     "data": {
      "text/plain": [
       "95"
      ]
     },
     "execution_count": 10,
     "metadata": {},
     "output_type": "execute_result"
    }
   ],
   "source": [
    "num"
   ]
  },
  {
   "cell_type": "code",
   "execution_count": 13,
   "id": "247a3b5e",
   "metadata": {},
   "outputs": [],
   "source": [
    "num = 6788654 ** 78"
   ]
  },
  {
   "cell_type": "code",
   "execution_count": 14,
   "id": "9740cc96",
   "metadata": {},
   "outputs": [
    {
     "data": {
      "text/plain": [
       "75705355242505180803726621380687125641135842047632845640405777295780156246985983680067867429010297331809277310622629405277202047386604310576273189781345593829387615571060423842346487478492265237492693720064913062650389797311347786001766483008264811260802308168330218847533273061339410961107836220617696412005690875276777523598403219869452674548780190101364417281817205449736273232548639901097817468239759702432495245216097302358779712677238603857777633839425091869700594523504298491824623251695019025079814000815000770157810848628736"
      ]
     },
     "execution_count": 14,
     "metadata": {},
     "output_type": "execute_result"
    }
   ],
   "source": [
    "num"
   ]
  },
  {
   "cell_type": "code",
   "execution_count": 15,
   "id": "672d2a06",
   "metadata": {},
   "outputs": [],
   "source": [
    "y = 10e3"
   ]
  },
  {
   "cell_type": "code",
   "execution_count": 16,
   "id": "9e196469",
   "metadata": {},
   "outputs": [
    {
     "data": {
      "text/plain": [
       "10000.0"
      ]
     },
     "execution_count": 16,
     "metadata": {},
     "output_type": "execute_result"
    }
   ],
   "source": [
    "y"
   ]
  },
  {
   "cell_type": "code",
   "execution_count": 18,
   "id": "c6f8aeec",
   "metadata": {},
   "outputs": [
    {
     "data": {
      "text/plain": [
       "78"
      ]
     },
     "execution_count": 18,
     "metadata": {},
     "output_type": "execute_result"
    }
   ],
   "source": [
    "num"
   ]
  },
  {
   "cell_type": "markdown",
   "id": "e17206a5",
   "metadata": {},
   "source": [
    "#### print function"
   ]
  },
  {
   "cell_type": "code",
   "execution_count": 19,
   "id": "4efb766a",
   "metadata": {},
   "outputs": [
    {
     "name": "stdout",
     "output_type": "stream",
     "text": [
      "welcome to python programming\n"
     ]
    }
   ],
   "source": [
    "print ('welcome to python programming')"
   ]
  },
  {
   "cell_type": "code",
   "execution_count": 20,
   "id": "0f9b42e9",
   "metadata": {},
   "outputs": [
    {
     "name": "stdout",
     "output_type": "stream",
     "text": [
      "welcome to 'python' programming\n"
     ]
    }
   ],
   "source": [
    "print(\"welcome to 'python' programming\")"
   ]
  },
  {
   "cell_type": "code",
   "execution_count": 25,
   "id": "9f36173e",
   "metadata": {},
   "outputs": [],
   "source": [
    "# multiple assignment\n",
    "\n",
    "num1, num2, num3 = 12, 34, 'Aditya'"
   ]
  },
  {
   "cell_type": "code",
   "execution_count": 26,
   "id": "8daf716b",
   "metadata": {},
   "outputs": [
    {
     "data": {
      "text/plain": [
       "12"
      ]
     },
     "execution_count": 26,
     "metadata": {},
     "output_type": "execute_result"
    }
   ],
   "source": [
    "num1"
   ]
  },
  {
   "cell_type": "code",
   "execution_count": 27,
   "id": "8bdcf130",
   "metadata": {},
   "outputs": [
    {
     "data": {
      "text/plain": [
       "34"
      ]
     },
     "execution_count": 27,
     "metadata": {},
     "output_type": "execute_result"
    }
   ],
   "source": [
    "num2"
   ]
  },
  {
   "cell_type": "code",
   "execution_count": 28,
   "id": "c37e1f22",
   "metadata": {},
   "outputs": [
    {
     "data": {
      "text/plain": [
       "'Aditya'"
      ]
     },
     "execution_count": 28,
     "metadata": {},
     "output_type": "execute_result"
    }
   ],
   "source": [
    "num3"
   ]
  },
  {
   "cell_type": "code",
   "execution_count": 29,
   "id": "540eca01",
   "metadata": {},
   "outputs": [],
   "source": [
    "num1 = 23\n",
    "num2 = 10"
   ]
  },
  {
   "cell_type": "code",
   "execution_count": 31,
   "id": "41c272bb",
   "metadata": {},
   "outputs": [
    {
     "name": "stdout",
     "output_type": "stream",
     "text": [
      "33\n"
     ]
    }
   ],
   "source": [
    "add = num1 + num2\n",
    "print(add)"
   ]
  },
  {
   "cell_type": "code",
   "execution_count": 34,
   "id": "8c85fa3a",
   "metadata": {},
   "outputs": [
    {
     "data": {
      "text/plain": [
       "68"
      ]
     },
     "execution_count": 34,
     "metadata": {},
     "output_type": "execute_result"
    }
   ],
   "source": [
    "num1 = 23; num2= 45; num1+num2"
   ]
  },
  {
   "cell_type": "code",
   "execution_count": 35,
   "id": "c8d33bc8",
   "metadata": {},
   "outputs": [],
   "source": [
    "# String Operations"
   ]
  },
  {
   "cell_type": "code",
   "execution_count": 36,
   "id": "76b9ff76",
   "metadata": {},
   "outputs": [],
   "source": [
    "name = 'Aditya'"
   ]
  },
  {
   "cell_type": "code",
   "execution_count": 37,
   "id": "c8c53091",
   "metadata": {},
   "outputs": [
    {
     "data": {
      "text/plain": [
       "'aditya'"
      ]
     },
     "execution_count": 37,
     "metadata": {},
     "output_type": "execute_result"
    }
   ],
   "source": [
    "name.lower()"
   ]
  },
  {
   "cell_type": "code",
   "execution_count": 40,
   "id": "3e5fc101",
   "metadata": {},
   "outputs": [],
   "source": [
    "x = name.upper()"
   ]
  },
  {
   "cell_type": "code",
   "execution_count": 42,
   "id": "0aa7ff51",
   "metadata": {},
   "outputs": [
    {
     "name": "stdout",
     "output_type": "stream",
     "text": [
      "ADITYA\n"
     ]
    }
   ],
   "source": [
    "print(x)"
   ]
  },
  {
   "cell_type": "code",
   "execution_count": 43,
   "id": "6fe13957",
   "metadata": {},
   "outputs": [
    {
     "data": {
      "text/plain": [
       "'aDITYA'"
      ]
     },
     "execution_count": 43,
     "metadata": {},
     "output_type": "execute_result"
    }
   ],
   "source": [
    "name.swapcase()"
   ]
  },
  {
   "cell_type": "code",
   "execution_count": 44,
   "id": "55db275a",
   "metadata": {},
   "outputs": [
    {
     "data": {
      "text/plain": [
       "6"
      ]
     },
     "execution_count": 44,
     "metadata": {},
     "output_type": "execute_result"
    }
   ],
   "source": [
    "len(name)"
   ]
  },
  {
   "cell_type": "code",
   "execution_count": 45,
   "id": "b718f979",
   "metadata": {},
   "outputs": [
    {
     "data": {
      "text/plain": [
       "False"
      ]
     },
     "execution_count": 45,
     "metadata": {},
     "output_type": "execute_result"
    }
   ],
   "source": [
    "name.islower()"
   ]
  },
  {
   "cell_type": "code",
   "execution_count": 46,
   "id": "28df71bd",
   "metadata": {},
   "outputs": [
    {
     "data": {
      "text/plain": [
       "True"
      ]
     },
     "execution_count": 46,
     "metadata": {},
     "output_type": "execute_result"
    }
   ],
   "source": [
    "name.istitle()"
   ]
  },
  {
   "cell_type": "code",
   "execution_count": 47,
   "id": "1a6197f0",
   "metadata": {},
   "outputs": [],
   "source": [
    "name = ' Aditya '"
   ]
  },
  {
   "cell_type": "code",
   "execution_count": 48,
   "id": "4884205c",
   "metadata": {},
   "outputs": [
    {
     "data": {
      "text/plain": [
       "'Aditya '"
      ]
     },
     "execution_count": 48,
     "metadata": {},
     "output_type": "execute_result"
    }
   ],
   "source": [
    "name.lstrip()"
   ]
  },
  {
   "cell_type": "code",
   "execution_count": 49,
   "id": "098185fb",
   "metadata": {},
   "outputs": [
    {
     "data": {
      "text/plain": [
       "' Aditya'"
      ]
     },
     "execution_count": 49,
     "metadata": {},
     "output_type": "execute_result"
    }
   ],
   "source": [
    "name.rstrip()"
   ]
  },
  {
   "cell_type": "code",
   "execution_count": 50,
   "id": "aaa4686f",
   "metadata": {},
   "outputs": [
    {
     "data": {
      "text/plain": [
       "'Aditya'"
      ]
     },
     "execution_count": 50,
     "metadata": {},
     "output_type": "execute_result"
    }
   ],
   "source": [
    "name.strip()"
   ]
  },
  {
   "cell_type": "code",
   "execution_count": 53,
   "id": "565a106a",
   "metadata": {},
   "outputs": [
    {
     "data": {
      "text/plain": [
       "True"
      ]
     },
     "execution_count": 53,
     "metadata": {},
     "output_type": "execute_result"
    }
   ],
   "source": [
    "name.startswith(' Ad')"
   ]
  },
  {
   "cell_type": "code",
   "execution_count": 54,
   "id": "abd9ceda",
   "metadata": {},
   "outputs": [
    {
     "data": {
      "text/plain": [
       "True"
      ]
     },
     "execution_count": 54,
     "metadata": {},
     "output_type": "execute_result"
    }
   ],
   "source": [
    "name.endswith('a ')"
   ]
  },
  {
   "cell_type": "code",
   "execution_count": 55,
   "id": "27094f78",
   "metadata": {},
   "outputs": [
    {
     "data": {
      "text/plain": [
       "'/home/aditya/WCE'"
      ]
     },
     "execution_count": 55,
     "metadata": {},
     "output_type": "execute_result"
    }
   ],
   "source": [
    "pwd"
   ]
  },
  {
   "cell_type": "code",
   "execution_count": 56,
   "id": "e9c233eb",
   "metadata": {},
   "outputs": [],
   "source": [
    "name = 'Aditya'"
   ]
  },
  {
   "cell_type": "code",
   "execution_count": 57,
   "id": "3ec0c5a9",
   "metadata": {},
   "outputs": [
    {
     "data": {
      "text/plain": [
       "'Aaditya'"
      ]
     },
     "execution_count": 57,
     "metadata": {},
     "output_type": "execute_result"
    }
   ],
   "source": [
    "name.replace('A','Aa')"
   ]
  },
  {
   "cell_type": "code",
   "execution_count": 58,
   "id": "fc1b07d6",
   "metadata": {},
   "outputs": [
    {
     "data": {
      "text/plain": [
       "1"
      ]
     },
     "execution_count": 58,
     "metadata": {},
     "output_type": "execute_result"
    }
   ],
   "source": [
    "name.find('d')"
   ]
  },
  {
   "cell_type": "code",
   "execution_count": 59,
   "id": "6ecb1ea7",
   "metadata": {},
   "outputs": [
    {
     "data": {
      "text/plain": [
       "['__add__',\n",
       " '__class__',\n",
       " '__contains__',\n",
       " '__delattr__',\n",
       " '__dir__',\n",
       " '__doc__',\n",
       " '__eq__',\n",
       " '__format__',\n",
       " '__ge__',\n",
       " '__getattribute__',\n",
       " '__getitem__',\n",
       " '__getnewargs__',\n",
       " '__getstate__',\n",
       " '__gt__',\n",
       " '__hash__',\n",
       " '__init__',\n",
       " '__init_subclass__',\n",
       " '__iter__',\n",
       " '__le__',\n",
       " '__len__',\n",
       " '__lt__',\n",
       " '__mod__',\n",
       " '__mul__',\n",
       " '__ne__',\n",
       " '__new__',\n",
       " '__reduce__',\n",
       " '__reduce_ex__',\n",
       " '__repr__',\n",
       " '__rmod__',\n",
       " '__rmul__',\n",
       " '__setattr__',\n",
       " '__sizeof__',\n",
       " '__str__',\n",
       " '__subclasshook__',\n",
       " 'capitalize',\n",
       " 'casefold',\n",
       " 'center',\n",
       " 'count',\n",
       " 'encode',\n",
       " 'endswith',\n",
       " 'expandtabs',\n",
       " 'find',\n",
       " 'format',\n",
       " 'format_map',\n",
       " 'index',\n",
       " 'isalnum',\n",
       " 'isalpha',\n",
       " 'isascii',\n",
       " 'isdecimal',\n",
       " 'isdigit',\n",
       " 'isidentifier',\n",
       " 'islower',\n",
       " 'isnumeric',\n",
       " 'isprintable',\n",
       " 'isspace',\n",
       " 'istitle',\n",
       " 'isupper',\n",
       " 'join',\n",
       " 'ljust',\n",
       " 'lower',\n",
       " 'lstrip',\n",
       " 'maketrans',\n",
       " 'partition',\n",
       " 'removeprefix',\n",
       " 'removesuffix',\n",
       " 'replace',\n",
       " 'rfind',\n",
       " 'rindex',\n",
       " 'rjust',\n",
       " 'rpartition',\n",
       " 'rsplit',\n",
       " 'rstrip',\n",
       " 'split',\n",
       " 'splitlines',\n",
       " 'startswith',\n",
       " 'strip',\n",
       " 'swapcase',\n",
       " 'title',\n",
       " 'translate',\n",
       " 'upper',\n",
       " 'zfill']"
      ]
     },
     "execution_count": 59,
     "metadata": {},
     "output_type": "execute_result"
    }
   ],
   "source": [
    "dir(name)"
   ]
  },
  {
   "cell_type": "code",
   "execution_count": 60,
   "id": "583e91f3",
   "metadata": {},
   "outputs": [
    {
     "name": "stdout",
     "output_type": "stream",
     "text": [
      "Help on built-in function join:\n",
      "\n",
      "join(iterable, /) method of builtins.str instance\n",
      "    Concatenate any number of strings.\n",
      "    \n",
      "    The string whose method is called is inserted in between each given string.\n",
      "    The result is returned as a new string.\n",
      "    \n",
      "    Example: '.'.join(['ab', 'pq', 'rs']) -> 'ab.pq.rs'\n",
      "\n"
     ]
    }
   ],
   "source": [
    "help(name.join)"
   ]
  },
  {
   "cell_type": "code",
   "execution_count": 61,
   "id": "b8044463",
   "metadata": {},
   "outputs": [],
   "source": [
    "name1 = 'hello'\n",
    "name2 = 'world'"
   ]
  },
  {
   "cell_type": "code",
   "execution_count": 69,
   "id": "5b9a1904",
   "metadata": {},
   "outputs": [],
   "source": [
    "data =name1 + ' ' +  name2 + '123'"
   ]
  },
  {
   "cell_type": "code",
   "execution_count": 70,
   "id": "b7d6837c",
   "metadata": {},
   "outputs": [
    {
     "data": {
      "text/plain": [
       "'hello world123'"
      ]
     },
     "execution_count": 70,
     "metadata": {},
     "output_type": "execute_result"
    }
   ],
   "source": [
    "data"
   ]
  },
  {
   "cell_type": "code",
   "execution_count": 71,
   "id": "3a9d7786",
   "metadata": {},
   "outputs": [],
   "source": [
    "# Escape Sequence"
   ]
  },
  {
   "cell_type": "code",
   "execution_count": 72,
   "id": "258a71d3",
   "metadata": {},
   "outputs": [
    {
     "name": "stdout",
     "output_type": "stream",
     "text": [
      "Hello\n",
      "World\n"
     ]
    }
   ],
   "source": [
    "print('Hello\\nWorld')"
   ]
  },
  {
   "cell_type": "code",
   "execution_count": 73,
   "id": "d47c987a",
   "metadata": {},
   "outputs": [
    {
     "name": "stdout",
     "output_type": "stream",
     "text": [
      "Hello\tWorld\n"
     ]
    }
   ],
   "source": [
    "print('Hello\\tWorld')"
   ]
  },
  {
   "cell_type": "code",
   "execution_count": 74,
   "id": "38b6378b",
   "metadata": {},
   "outputs": [
    {
     "name": "stdout",
     "output_type": "stream",
     "text": [
      "Hello\\World\n"
     ]
    }
   ],
   "source": [
    "print('Hello\\\\World')"
   ]
  },
  {
   "cell_type": "code",
   "execution_count": 75,
   "id": "fb4b2be7",
   "metadata": {},
   "outputs": [
    {
     "name": "stdout",
     "output_type": "stream",
     "text": [
      "Hello\"World\n"
     ]
    }
   ],
   "source": [
    "print('Hello\\\"World')"
   ]
  },
  {
   "cell_type": "code",
   "execution_count": 76,
   "id": "a3ecd205",
   "metadata": {},
   "outputs": [],
   "source": [
    "# docstring\n",
    "\n",
    "doc = '''this is first line\n",
    "this is second line\n",
    "'''"
   ]
  },
  {
   "cell_type": "code",
   "execution_count": 77,
   "id": "6ac512a6",
   "metadata": {},
   "outputs": [
    {
     "data": {
      "text/plain": [
       "'this is first line\\nthis is second line\\n'"
      ]
     },
     "execution_count": 77,
     "metadata": {},
     "output_type": "execute_result"
    }
   ],
   "source": [
    "doc"
   ]
  },
  {
   "cell_type": "code",
   "execution_count": 78,
   "id": "798215de",
   "metadata": {},
   "outputs": [],
   "source": [
    "# print function"
   ]
  },
  {
   "cell_type": "code",
   "execution_count": 89,
   "id": "886e174f",
   "metadata": {},
   "outputs": [],
   "source": [
    "name = 'Aditya'\n",
    "marks = 78\n",
    "city = 'Pune'"
   ]
  },
  {
   "cell_type": "code",
   "execution_count": 82,
   "id": "bcee2c67",
   "metadata": {},
   "outputs": [
    {
     "name": "stdout",
     "output_type": "stream",
     "text": [
      "my name is Aditya and marks are 78\n"
     ]
    }
   ],
   "source": [
    "print('my name is',name, 'and marks are',marks)"
   ]
  },
  {
   "cell_type": "code",
   "execution_count": 85,
   "id": "7ffc3ae6",
   "metadata": {},
   "outputs": [
    {
     "name": "stdout",
     "output_type": "stream",
     "text": [
      "my name is Aditya and marks are 78\n"
     ]
    }
   ],
   "source": [
    "# formatted print\n",
    "print ('my name is %s and marks are %i' %(name,marks) )"
   ]
  },
  {
   "cell_type": "code",
   "execution_count": 88,
   "id": "18143cff",
   "metadata": {},
   "outputs": [
    {
     "name": "stdout",
     "output_type": "stream",
     "text": [
      "my name is Aditya and marks are 78.000\n"
     ]
    }
   ],
   "source": [
    "print ('my name is %s and marks are %.3f' %(name,marks) )"
   ]
  },
  {
   "cell_type": "code",
   "execution_count": 92,
   "id": "3989bc93",
   "metadata": {},
   "outputs": [
    {
     "name": "stdout",
     "output_type": "stream",
     "text": [
      "Aditya=78=Pune\n"
     ]
    }
   ],
   "source": [
    "print(name, marks, city, sep = '=')"
   ]
  },
  {
   "cell_type": "code",
   "execution_count": 93,
   "id": "c8d6ea09",
   "metadata": {},
   "outputs": [
    {
     "name": "stdout",
     "output_type": "stream",
     "text": [
      "Aditya 78 Pune="
     ]
    }
   ],
   "source": [
    "print(name, marks, city, end = '=')"
   ]
  },
  {
   "cell_type": "code",
   "execution_count": 94,
   "id": "b791811e",
   "metadata": {},
   "outputs": [],
   "source": [
    "# Operators"
   ]
  },
  {
   "cell_type": "code",
   "execution_count": 95,
   "id": "7c50db39",
   "metadata": {},
   "outputs": [
    {
     "data": {
      "text/plain": [
       "3.3333333333333335"
      ]
     },
     "execution_count": 95,
     "metadata": {},
     "output_type": "execute_result"
    }
   ],
   "source": [
    "10 / 3"
   ]
  },
  {
   "cell_type": "code",
   "execution_count": 97,
   "id": "83f1d92b",
   "metadata": {},
   "outputs": [
    {
     "data": {
      "text/plain": [
       "3"
      ]
     },
     "execution_count": 97,
     "metadata": {},
     "output_type": "execute_result"
    }
   ],
   "source": [
    "10 // 3  # floor division"
   ]
  },
  {
   "cell_type": "code",
   "execution_count": 98,
   "id": "33d6f6a2",
   "metadata": {},
   "outputs": [
    {
     "data": {
      "text/plain": [
       "1"
      ]
     },
     "execution_count": 98,
     "metadata": {},
     "output_type": "execute_result"
    }
   ],
   "source": [
    "10 % 3"
   ]
  },
  {
   "cell_type": "code",
   "execution_count": 99,
   "id": "d094a603",
   "metadata": {},
   "outputs": [
    {
     "data": {
      "text/plain": [
       "8"
      ]
     },
     "execution_count": 99,
     "metadata": {},
     "output_type": "execute_result"
    }
   ],
   "source": [
    "2 ** 3"
   ]
  },
  {
   "cell_type": "code",
   "execution_count": 100,
   "id": "35dc0a83",
   "metadata": {},
   "outputs": [],
   "source": [
    "# relational operators"
   ]
  },
  {
   "cell_type": "code",
   "execution_count": 101,
   "id": "53acd312",
   "metadata": {},
   "outputs": [
    {
     "data": {
      "text/plain": [
       "23"
      ]
     },
     "execution_count": 101,
     "metadata": {},
     "output_type": "execute_result"
    }
   ],
   "source": [
    "num1"
   ]
  },
  {
   "cell_type": "code",
   "execution_count": 102,
   "id": "09cdc253",
   "metadata": {},
   "outputs": [
    {
     "data": {
      "text/plain": [
       "45"
      ]
     },
     "execution_count": 102,
     "metadata": {},
     "output_type": "execute_result"
    }
   ],
   "source": [
    "num2"
   ]
  },
  {
   "cell_type": "code",
   "execution_count": 103,
   "id": "79e04dbc",
   "metadata": {},
   "outputs": [
    {
     "data": {
      "text/plain": [
       "False"
      ]
     },
     "execution_count": 103,
     "metadata": {},
     "output_type": "execute_result"
    }
   ],
   "source": [
    "num1 > num2"
   ]
  },
  {
   "cell_type": "code",
   "execution_count": 104,
   "id": "c30b03af",
   "metadata": {},
   "outputs": [
    {
     "data": {
      "text/plain": [
       "False"
      ]
     },
     "execution_count": 104,
     "metadata": {},
     "output_type": "execute_result"
    }
   ],
   "source": [
    "num1 == num2"
   ]
  },
  {
   "cell_type": "code",
   "execution_count": 105,
   "id": "cc437fa5",
   "metadata": {},
   "outputs": [
    {
     "data": {
      "text/plain": [
       "True"
      ]
     },
     "execution_count": 105,
     "metadata": {},
     "output_type": "execute_result"
    }
   ],
   "source": [
    "num1 <= num2"
   ]
  },
  {
   "cell_type": "code",
   "execution_count": 106,
   "id": "5652b911",
   "metadata": {},
   "outputs": [],
   "source": [
    "# assignment operator"
   ]
  },
  {
   "cell_type": "code",
   "execution_count": 107,
   "id": "531674fb",
   "metadata": {},
   "outputs": [],
   "source": [
    "num1 = 10"
   ]
  },
  {
   "cell_type": "code",
   "execution_count": 108,
   "id": "0ead554d",
   "metadata": {},
   "outputs": [],
   "source": [
    "num1 += 10"
   ]
  },
  {
   "cell_type": "code",
   "execution_count": 109,
   "id": "acf231d4",
   "metadata": {},
   "outputs": [
    {
     "data": {
      "text/plain": [
       "20"
      ]
     },
     "execution_count": 109,
     "metadata": {},
     "output_type": "execute_result"
    }
   ],
   "source": [
    "num1"
   ]
  },
  {
   "cell_type": "code",
   "execution_count": 110,
   "id": "03e787f6",
   "metadata": {},
   "outputs": [],
   "source": [
    "# logical operators"
   ]
  },
  {
   "cell_type": "code",
   "execution_count": 111,
   "id": "3f9d7828",
   "metadata": {},
   "outputs": [
    {
     "data": {
      "text/plain": [
       "False"
      ]
     },
     "execution_count": 111,
     "metadata": {},
     "output_type": "execute_result"
    }
   ],
   "source": [
    "num1 > num2 and num1 == 10"
   ]
  },
  {
   "cell_type": "code",
   "execution_count": 113,
   "id": "d686a15e",
   "metadata": {
    "scrolled": true
   },
   "outputs": [
    {
     "data": {
      "text/plain": [
       "True"
      ]
     },
     "execution_count": 113,
     "metadata": {},
     "output_type": "execute_result"
    }
   ],
   "source": [
    "num1 > num2 or num1 == 20"
   ]
  },
  {
   "cell_type": "code",
   "execution_count": 116,
   "id": "91401226",
   "metadata": {},
   "outputs": [],
   "source": [
    "# type casting"
   ]
  },
  {
   "cell_type": "code",
   "execution_count": 114,
   "id": "3114abf4",
   "metadata": {},
   "outputs": [
    {
     "data": {
      "text/plain": [
       "20"
      ]
     },
     "execution_count": 114,
     "metadata": {},
     "output_type": "execute_result"
    }
   ],
   "source": [
    "num1"
   ]
  },
  {
   "cell_type": "code",
   "execution_count": 115,
   "id": "273cbb7e",
   "metadata": {},
   "outputs": [],
   "source": [
    "num2 =12.11"
   ]
  },
  {
   "cell_type": "code",
   "execution_count": 118,
   "id": "97465618",
   "metadata": {},
   "outputs": [
    {
     "data": {
      "text/plain": [
       "32"
      ]
     },
     "execution_count": 118,
     "metadata": {},
     "output_type": "execute_result"
    }
   ],
   "source": [
    "num1 + int(num2)"
   ]
  },
  {
   "cell_type": "code",
   "execution_count": 119,
   "id": "728e387e",
   "metadata": {},
   "outputs": [],
   "source": [
    "# User input"
   ]
  },
  {
   "cell_type": "code",
   "execution_count": 121,
   "id": "77d3e5f7",
   "metadata": {},
   "outputs": [
    {
     "name": "stdout",
     "output_type": "stream",
     "text": [
      "Enter the 1st number 10\n",
      "Enter the 2nd number 20\n",
      "Addition is:  30\n"
     ]
    }
   ],
   "source": [
    "num1 = int(input('Enter the 1st number '))\n",
    "num2 = int(input('Enter the 2nd number '))\n",
    "\n",
    "add = num1 + num2\n",
    "print('Addition is: ', add)"
   ]
  },
  {
   "cell_type": "code",
   "execution_count": null,
   "id": "5389d5f2",
   "metadata": {},
   "outputs": [],
   "source": []
  }
 ],
 "metadata": {
  "kernelspec": {
   "display_name": "Python 3 (ipykernel)",
   "language": "python",
   "name": "python3"
  },
  "language_info": {
   "codemirror_mode": {
    "name": "ipython",
    "version": 3
   },
   "file_extension": ".py",
   "mimetype": "text/x-python",
   "name": "python",
   "nbconvert_exporter": "python",
   "pygments_lexer": "ipython3",
   "version": "3.11.5"
  }
 },
 "nbformat": 4,
 "nbformat_minor": 5
}
