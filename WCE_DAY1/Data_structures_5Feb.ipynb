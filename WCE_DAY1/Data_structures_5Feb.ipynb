{
 "cells": [
  {
   "cell_type": "markdown",
   "id": "bf37df85",
   "metadata": {},
   "source": [
    "# List"
   ]
  },
  {
   "cell_type": "raw",
   "id": "33b155ee",
   "metadata": {},
   "source": [
    "properties\n",
    "\n",
    "duplicates are allowed\n",
    "heterogeneous\n",
    "ordered\n",
    "mutable"
   ]
  },
  {
   "cell_type": "code",
   "execution_count": 4,
   "id": "e648ac74",
   "metadata": {},
   "outputs": [],
   "source": [
    "l = [23,45,67,89,65,78,23,78]"
   ]
  },
  {
   "cell_type": "code",
   "execution_count": 5,
   "id": "8e557aa4",
   "metadata": {},
   "outputs": [
    {
     "data": {
      "text/plain": [
       "list"
      ]
     },
     "execution_count": 5,
     "metadata": {},
     "output_type": "execute_result"
    }
   ],
   "source": [
    "type(l)"
   ]
  },
  {
   "cell_type": "code",
   "execution_count": 6,
   "id": "6f731708",
   "metadata": {},
   "outputs": [
    {
     "data": {
      "text/plain": [
       "[23, 45, 67, 89, 65, 78, 23, 78]"
      ]
     },
     "execution_count": 6,
     "metadata": {},
     "output_type": "execute_result"
    }
   ],
   "source": [
    "l"
   ]
  },
  {
   "cell_type": "code",
   "execution_count": 8,
   "id": "06de3fd3",
   "metadata": {},
   "outputs": [],
   "source": [
    "l1 = [23,45,67,89,65,78,'Adi',78.44,23,78]"
   ]
  },
  {
   "cell_type": "code",
   "execution_count": 9,
   "id": "4c3dc116",
   "metadata": {},
   "outputs": [
    {
     "data": {
      "text/plain": [
       "[23, 45, 67, 89, 65, 78, 'Adi', 78.44, 23, 78]"
      ]
     },
     "execution_count": 9,
     "metadata": {},
     "output_type": "execute_result"
    }
   ],
   "source": [
    "l1"
   ]
  },
  {
   "cell_type": "code",
   "execution_count": 10,
   "id": "ef8fb03c",
   "metadata": {},
   "outputs": [
    {
     "data": {
      "text/plain": [
       "67"
      ]
     },
     "execution_count": 10,
     "metadata": {},
     "output_type": "execute_result"
    }
   ],
   "source": [
    "l[2]"
   ]
  },
  {
   "cell_type": "code",
   "execution_count": 11,
   "id": "ce2d5cf9",
   "metadata": {},
   "outputs": [
    {
     "data": {
      "text/plain": [
       "23"
      ]
     },
     "execution_count": 11,
     "metadata": {},
     "output_type": "execute_result"
    }
   ],
   "source": [
    "l[-2]"
   ]
  },
  {
   "cell_type": "code",
   "execution_count": 12,
   "id": "147e5f92",
   "metadata": {},
   "outputs": [],
   "source": [
    "l[1] = 50"
   ]
  },
  {
   "cell_type": "code",
   "execution_count": 13,
   "id": "bae48d6c",
   "metadata": {},
   "outputs": [
    {
     "data": {
      "text/plain": [
       "[23, 50, 67, 89, 65, 78, 23, 78]"
      ]
     },
     "execution_count": 13,
     "metadata": {},
     "output_type": "execute_result"
    }
   ],
   "source": [
    "l"
   ]
  },
  {
   "cell_type": "code",
   "execution_count": 14,
   "id": "76a192b1",
   "metadata": {},
   "outputs": [],
   "source": [
    "# slicing"
   ]
  },
  {
   "cell_type": "code",
   "execution_count": 15,
   "id": "9eda6e1f",
   "metadata": {},
   "outputs": [
    {
     "data": {
      "text/plain": [
       "[50, 67, 89, 65, 78]"
      ]
     },
     "execution_count": 15,
     "metadata": {},
     "output_type": "execute_result"
    }
   ],
   "source": [
    "l[1:6]"
   ]
  },
  {
   "cell_type": "code",
   "execution_count": 16,
   "id": "b9a8a28a",
   "metadata": {},
   "outputs": [
    {
     "data": {
      "text/plain": [
       "[50, 67, 89, 65, 78, 23, 78]"
      ]
     },
     "execution_count": 16,
     "metadata": {},
     "output_type": "execute_result"
    }
   ],
   "source": [
    "l[1:]"
   ]
  },
  {
   "cell_type": "code",
   "execution_count": 17,
   "id": "be6a86cd",
   "metadata": {},
   "outputs": [
    {
     "data": {
      "text/plain": [
       "[23, 50, 67, 89, 65]"
      ]
     },
     "execution_count": 17,
     "metadata": {},
     "output_type": "execute_result"
    }
   ],
   "source": [
    "l[:5]"
   ]
  },
  {
   "cell_type": "code",
   "execution_count": 19,
   "id": "64570358",
   "metadata": {},
   "outputs": [
    {
     "data": {
      "text/plain": [
       "[23, 50, 67, 89, 65, 78, 23, 78]"
      ]
     },
     "execution_count": 19,
     "metadata": {},
     "output_type": "execute_result"
    }
   ],
   "source": [
    "l"
   ]
  },
  {
   "cell_type": "code",
   "execution_count": 20,
   "id": "6251ce22",
   "metadata": {},
   "outputs": [
    {
     "data": {
      "text/plain": [
       "[50, 89, 78]"
      ]
     },
     "execution_count": 20,
     "metadata": {},
     "output_type": "execute_result"
    }
   ],
   "source": [
    "l[1:6:2]   # parameters => [start, end, step]"
   ]
  },
  {
   "cell_type": "code",
   "execution_count": 21,
   "id": "e9274b6c",
   "metadata": {},
   "outputs": [
    {
     "data": {
      "text/plain": [
       "[23, 50, 67, 89, 65, 78, 23, 78]"
      ]
     },
     "execution_count": 21,
     "metadata": {},
     "output_type": "execute_result"
    }
   ],
   "source": [
    "l[:]"
   ]
  },
  {
   "cell_type": "code",
   "execution_count": 22,
   "id": "5201fa09",
   "metadata": {},
   "outputs": [],
   "source": [
    "l[1:4] = [34,70,80]"
   ]
  },
  {
   "cell_type": "code",
   "execution_count": 23,
   "id": "fb86b822",
   "metadata": {},
   "outputs": [
    {
     "data": {
      "text/plain": [
       "[23, 34, 70, 80, 65, 78, 23, 78]"
      ]
     },
     "execution_count": 23,
     "metadata": {},
     "output_type": "execute_result"
    }
   ],
   "source": [
    "l"
   ]
  },
  {
   "cell_type": "code",
   "execution_count": 24,
   "id": "b7c38ae5",
   "metadata": {},
   "outputs": [
    {
     "data": {
      "text/plain": [
       "False"
      ]
     },
     "execution_count": 24,
     "metadata": {},
     "output_type": "execute_result"
    }
   ],
   "source": [
    "# in operator\n",
    "\n",
    "74 in l"
   ]
  },
  {
   "cell_type": "code",
   "execution_count": 25,
   "id": "bdbe0b6d",
   "metadata": {},
   "outputs": [
    {
     "data": {
      "text/plain": [
       "True"
      ]
     },
     "execution_count": 25,
     "metadata": {},
     "output_type": "execute_result"
    }
   ],
   "source": [
    "23 in l"
   ]
  },
  {
   "cell_type": "code",
   "execution_count": 26,
   "id": "e07495e4",
   "metadata": {},
   "outputs": [],
   "source": [
    "# remove \n",
    " \n",
    "del l[1]"
   ]
  },
  {
   "cell_type": "code",
   "execution_count": 27,
   "id": "b68ea8d4",
   "metadata": {},
   "outputs": [
    {
     "data": {
      "text/plain": [
       "[23, 70, 80, 65, 78, 23, 78]"
      ]
     },
     "execution_count": 27,
     "metadata": {},
     "output_type": "execute_result"
    }
   ],
   "source": [
    "l"
   ]
  },
  {
   "cell_type": "code",
   "execution_count": 28,
   "id": "17d39bee",
   "metadata": {},
   "outputs": [
    {
     "data": {
      "text/plain": [
       "[23, 70, 80, 65, 78, 23, 78, 23, 70, 80, 65, 78, 23, 78]"
      ]
     },
     "execution_count": 28,
     "metadata": {},
     "output_type": "execute_result"
    }
   ],
   "source": [
    "# Arithmetic operation\n",
    "\n",
    "l * 2"
   ]
  },
  {
   "cell_type": "code",
   "execution_count": 31,
   "id": "e19e6af3",
   "metadata": {},
   "outputs": [],
   "source": [
    "l += [45,60]"
   ]
  },
  {
   "cell_type": "code",
   "execution_count": 32,
   "id": "b725eb69",
   "metadata": {},
   "outputs": [
    {
     "data": {
      "text/plain": [
       "[23, 70, 80, 65, 78, 23, 78, 45, 60]"
      ]
     },
     "execution_count": 32,
     "metadata": {},
     "output_type": "execute_result"
    }
   ],
   "source": [
    "l"
   ]
  },
  {
   "cell_type": "code",
   "execution_count": 33,
   "id": "2449c935",
   "metadata": {},
   "outputs": [
    {
     "name": "stdout",
     "output_type": "stream",
     "text": [
      "23\n",
      "65\n",
      "23\n",
      "45\n"
     ]
    }
   ],
   "source": [
    "for n in l:\n",
    "    if n % 2 == 1:\n",
    "        print(n)"
   ]
  },
  {
   "cell_type": "code",
   "execution_count": 34,
   "id": "96ca0966",
   "metadata": {},
   "outputs": [],
   "source": [
    "# empty list\n",
    "\n",
    "e = []"
   ]
  },
  {
   "cell_type": "code",
   "execution_count": 35,
   "id": "9ae011bb",
   "metadata": {},
   "outputs": [
    {
     "ename": "IndexError",
     "evalue": "list index out of range",
     "output_type": "error",
     "traceback": [
      "\u001b[0;31m---------------------------------------------------------------------------\u001b[0m",
      "\u001b[0;31mIndexError\u001b[0m                                Traceback (most recent call last)",
      "Cell \u001b[0;32mIn[35], line 1\u001b[0m\n\u001b[0;32m----> 1\u001b[0m e[\u001b[38;5;241m0\u001b[39m]\n",
      "\u001b[0;31mIndexError\u001b[0m: list index out of range"
     ]
    }
   ],
   "source": [
    "e[0]"
   ]
  },
  {
   "cell_type": "code",
   "execution_count": 36,
   "id": "2344e6a7",
   "metadata": {},
   "outputs": [],
   "source": [
    "e += [20]"
   ]
  },
  {
   "cell_type": "code",
   "execution_count": 37,
   "id": "af88eb20",
   "metadata": {},
   "outputs": [
    {
     "data": {
      "text/plain": [
       "[20]"
      ]
     },
     "execution_count": 37,
     "metadata": {},
     "output_type": "execute_result"
    }
   ],
   "source": [
    "e"
   ]
  },
  {
   "cell_type": "code",
   "execution_count": 38,
   "id": "56b57359",
   "metadata": {},
   "outputs": [],
   "source": [
    "# List in List"
   ]
  },
  {
   "cell_type": "code",
   "execution_count": 39,
   "id": "5ad43134",
   "metadata": {},
   "outputs": [],
   "source": [
    "l = [23, 70, 80, 65, [78, 23], 78, 45, 60]"
   ]
  },
  {
   "cell_type": "code",
   "execution_count": 40,
   "id": "a7bb7138",
   "metadata": {},
   "outputs": [
    {
     "data": {
      "text/plain": [
       "[23, 70, 80, 65, [78, 23], 78, 45, 60]"
      ]
     },
     "execution_count": 40,
     "metadata": {},
     "output_type": "execute_result"
    }
   ],
   "source": [
    "l"
   ]
  },
  {
   "cell_type": "code",
   "execution_count": 41,
   "id": "55cbed35",
   "metadata": {},
   "outputs": [
    {
     "data": {
      "text/plain": [
       "78"
      ]
     },
     "execution_count": 41,
     "metadata": {},
     "output_type": "execute_result"
    }
   ],
   "source": [
    "l[4][0]"
   ]
  },
  {
   "cell_type": "code",
   "execution_count": 42,
   "id": "875a2f5f",
   "metadata": {},
   "outputs": [],
   "source": [
    "# functions on list"
   ]
  },
  {
   "cell_type": "code",
   "execution_count": 44,
   "id": "2ad732e8",
   "metadata": {},
   "outputs": [],
   "source": [
    "l3 = [23, 70, 80, 65, 78, 23, 78, 45, 60]"
   ]
  },
  {
   "cell_type": "code",
   "execution_count": 45,
   "id": "2386227e",
   "metadata": {},
   "outputs": [
    {
     "data": {
      "text/plain": [
       "23"
      ]
     },
     "execution_count": 45,
     "metadata": {},
     "output_type": "execute_result"
    }
   ],
   "source": [
    "min(l3)"
   ]
  },
  {
   "cell_type": "code",
   "execution_count": 46,
   "id": "5e7f26a1",
   "metadata": {},
   "outputs": [
    {
     "data": {
      "text/plain": [
       "80"
      ]
     },
     "execution_count": 46,
     "metadata": {},
     "output_type": "execute_result"
    }
   ],
   "source": [
    "max(l3)"
   ]
  },
  {
   "cell_type": "code",
   "execution_count": 47,
   "id": "f9a5ce0c",
   "metadata": {},
   "outputs": [
    {
     "data": {
      "text/plain": [
       "[23, 23, 45, 60, 65, 70, 78, 78, 80]"
      ]
     },
     "execution_count": 47,
     "metadata": {},
     "output_type": "execute_result"
    }
   ],
   "source": [
    "sorted(l3)"
   ]
  },
  {
   "cell_type": "code",
   "execution_count": 48,
   "id": "c36ad1cb",
   "metadata": {},
   "outputs": [
    {
     "data": {
      "text/plain": [
       "[80, 78, 78, 70, 65, 60, 45, 23, 23]"
      ]
     },
     "execution_count": 48,
     "metadata": {},
     "output_type": "execute_result"
    }
   ],
   "source": [
    "sorted(l3, reverse= True)"
   ]
  },
  {
   "cell_type": "code",
   "execution_count": 49,
   "id": "a1c3195e",
   "metadata": {},
   "outputs": [],
   "source": [
    "# methods"
   ]
  },
  {
   "cell_type": "code",
   "execution_count": 51,
   "id": "934a6125",
   "metadata": {},
   "outputs": [
    {
     "data": {
      "text/plain": [
       "[23, 70, 80, 65, 78, 23, 78, 45, 60]"
      ]
     },
     "execution_count": 51,
     "metadata": {},
     "output_type": "execute_result"
    }
   ],
   "source": [
    "l3"
   ]
  },
  {
   "cell_type": "code",
   "execution_count": 52,
   "id": "3015f6f6",
   "metadata": {},
   "outputs": [],
   "source": [
    "l3.append(100)"
   ]
  },
  {
   "cell_type": "code",
   "execution_count": 53,
   "id": "bbfc75d6",
   "metadata": {},
   "outputs": [
    {
     "data": {
      "text/plain": [
       "[23, 70, 80, 65, 78, 23, 78, 45, 60, 100]"
      ]
     },
     "execution_count": 53,
     "metadata": {},
     "output_type": "execute_result"
    }
   ],
   "source": [
    "l3"
   ]
  },
  {
   "cell_type": "code",
   "execution_count": 54,
   "id": "e667b27f",
   "metadata": {},
   "outputs": [],
   "source": [
    "x = [12,23,34]\n",
    "y = [12,23,34]"
   ]
  },
  {
   "cell_type": "code",
   "execution_count": 55,
   "id": "a11ce3b3",
   "metadata": {},
   "outputs": [],
   "source": [
    "x.append([56,67])\n",
    "y.extend([56,67])"
   ]
  },
  {
   "cell_type": "code",
   "execution_count": 56,
   "id": "c2b681f5",
   "metadata": {},
   "outputs": [
    {
     "data": {
      "text/plain": [
       "[12, 23, 34, [56, 67]]"
      ]
     },
     "execution_count": 56,
     "metadata": {},
     "output_type": "execute_result"
    }
   ],
   "source": [
    "x"
   ]
  },
  {
   "cell_type": "code",
   "execution_count": 57,
   "id": "6ae5f86c",
   "metadata": {
    "scrolled": true
   },
   "outputs": [
    {
     "data": {
      "text/plain": [
       "[12, 23, 34, 56, 67]"
      ]
     },
     "execution_count": 57,
     "metadata": {},
     "output_type": "execute_result"
    }
   ],
   "source": [
    "y"
   ]
  },
  {
   "cell_type": "code",
   "execution_count": 59,
   "id": "4b1fd6b5",
   "metadata": {},
   "outputs": [
    {
     "data": {
      "text/plain": [
       "[23, 70, 80, 65, 78, 23, 78, 45, 60, 100]"
      ]
     },
     "execution_count": 59,
     "metadata": {},
     "output_type": "execute_result"
    }
   ],
   "source": [
    "l3"
   ]
  },
  {
   "cell_type": "code",
   "execution_count": 60,
   "id": "7a630c9f",
   "metadata": {},
   "outputs": [
    {
     "data": {
      "text/plain": [
       "[23, 70, 101, 80, 65, 78, 23, 78, 45, 60, 100]"
      ]
     },
     "execution_count": 60,
     "metadata": {},
     "output_type": "execute_result"
    }
   ],
   "source": [
    "# insert\n",
    "\n",
    "l3.insert(2,101)\n",
    "l3"
   ]
  },
  {
   "cell_type": "code",
   "execution_count": 61,
   "id": "9332ecb9",
   "metadata": {},
   "outputs": [
    {
     "data": {
      "text/plain": [
       "[23, 70, 80, 65, 78, 23, 78, 45, 60, 100]"
      ]
     },
     "execution_count": 61,
     "metadata": {},
     "output_type": "execute_result"
    }
   ],
   "source": [
    "# remove\n",
    "\n",
    "l3.remove(101)\n",
    "l3"
   ]
  },
  {
   "cell_type": "code",
   "execution_count": 62,
   "id": "e91f270a",
   "metadata": {},
   "outputs": [
    {
     "data": {
      "text/plain": [
       "100"
      ]
     },
     "execution_count": 62,
     "metadata": {},
     "output_type": "execute_result"
    }
   ],
   "source": [
    "l3.pop()"
   ]
  },
  {
   "cell_type": "code",
   "execution_count": 63,
   "id": "d8b18304",
   "metadata": {},
   "outputs": [],
   "source": [
    "# clear\n",
    "\n",
    "l3.clear()"
   ]
  },
  {
   "cell_type": "code",
   "execution_count": 64,
   "id": "4352704f",
   "metadata": {},
   "outputs": [
    {
     "data": {
      "text/plain": [
       "[]"
      ]
     },
     "execution_count": 64,
     "metadata": {},
     "output_type": "execute_result"
    }
   ],
   "source": [
    "l3"
   ]
  },
  {
   "cell_type": "markdown",
   "id": "9d76a653",
   "metadata": {},
   "source": [
    "# Tuple"
   ]
  },
  {
   "cell_type": "code",
   "execution_count": 65,
   "id": "1f3b6329",
   "metadata": {},
   "outputs": [],
   "source": [
    "t = (45,34,'Adi', 67.78,34)"
   ]
  },
  {
   "cell_type": "code",
   "execution_count": 66,
   "id": "1955ea30",
   "metadata": {},
   "outputs": [
    {
     "data": {
      "text/plain": [
       "(45, 34, 'Adi', 67.78, 34)"
      ]
     },
     "execution_count": 66,
     "metadata": {},
     "output_type": "execute_result"
    }
   ],
   "source": [
    "t"
   ]
  },
  {
   "cell_type": "code",
   "execution_count": 67,
   "id": "5b70918f",
   "metadata": {},
   "outputs": [
    {
     "data": {
      "text/plain": [
       "tuple"
      ]
     },
     "execution_count": 67,
     "metadata": {},
     "output_type": "execute_result"
    }
   ],
   "source": [
    "type(t)"
   ]
  },
  {
   "cell_type": "code",
   "execution_count": 68,
   "id": "1e3ced0d",
   "metadata": {},
   "outputs": [
    {
     "data": {
      "text/plain": [
       "'Adi'"
      ]
     },
     "execution_count": 68,
     "metadata": {},
     "output_type": "execute_result"
    }
   ],
   "source": [
    "t[2]"
   ]
  },
  {
   "cell_type": "code",
   "execution_count": 69,
   "id": "ddaecd3b",
   "metadata": {},
   "outputs": [
    {
     "ename": "TypeError",
     "evalue": "'tuple' object does not support item assignment",
     "output_type": "error",
     "traceback": [
      "\u001b[0;31m---------------------------------------------------------------------------\u001b[0m",
      "\u001b[0;31mTypeError\u001b[0m                                 Traceback (most recent call last)",
      "Cell \u001b[0;32mIn[69], line 1\u001b[0m\n\u001b[0;32m----> 1\u001b[0m t[\u001b[38;5;241m0\u001b[39m]\u001b[38;5;241m=\u001b[39m \u001b[38;5;241m50\u001b[39m\n",
      "\u001b[0;31mTypeError\u001b[0m: 'tuple' object does not support item assignment"
     ]
    }
   ],
   "source": [
    "t[0]= 50"
   ]
  },
  {
   "cell_type": "code",
   "execution_count": 70,
   "id": "1c910d54",
   "metadata": {},
   "outputs": [
    {
     "data": {
      "text/plain": [
       "[45, 34, 'Adi', 67.78, 34]"
      ]
     },
     "execution_count": 70,
     "metadata": {},
     "output_type": "execute_result"
    }
   ],
   "source": [
    "l0 = list(t)\n",
    "l0"
   ]
  },
  {
   "cell_type": "code",
   "execution_count": 71,
   "id": "17c65432",
   "metadata": {},
   "outputs": [
    {
     "data": {
      "text/plain": [
       "(45, 34, 'Adi', 67.78, 34)"
      ]
     },
     "execution_count": 71,
     "metadata": {},
     "output_type": "execute_result"
    }
   ],
   "source": [
    "t"
   ]
  },
  {
   "cell_type": "code",
   "execution_count": 72,
   "id": "cf2eddbc",
   "metadata": {},
   "outputs": [
    {
     "data": {
      "text/plain": [
       "1"
      ]
     },
     "execution_count": 72,
     "metadata": {},
     "output_type": "execute_result"
    }
   ],
   "source": [
    "t.index(34)"
   ]
  },
  {
   "cell_type": "markdown",
   "id": "b425af31",
   "metadata": {},
   "source": [
    "# Dictionary"
   ]
  },
  {
   "cell_type": "code",
   "execution_count": 73,
   "id": "f1cdcc4e",
   "metadata": {},
   "outputs": [],
   "source": [
    "d1 = {1: 45, 2:67, 3: 45, 4: 68}"
   ]
  },
  {
   "cell_type": "code",
   "execution_count": 74,
   "id": "68574331",
   "metadata": {},
   "outputs": [
    {
     "data": {
      "text/plain": [
       "{1: 45, 2: 67, 3: 45, 4: 68}"
      ]
     },
     "execution_count": 74,
     "metadata": {},
     "output_type": "execute_result"
    }
   ],
   "source": [
    "d1"
   ]
  },
  {
   "cell_type": "code",
   "execution_count": 75,
   "id": "dce29231",
   "metadata": {},
   "outputs": [
    {
     "data": {
      "text/plain": [
       "dict"
      ]
     },
     "execution_count": 75,
     "metadata": {},
     "output_type": "execute_result"
    }
   ],
   "source": [
    "type(d1)"
   ]
  },
  {
   "cell_type": "code",
   "execution_count": 78,
   "id": "f2097637",
   "metadata": {},
   "outputs": [],
   "source": [
    "d1[5] = 45"
   ]
  },
  {
   "cell_type": "code",
   "execution_count": 79,
   "id": "15e80f71",
   "metadata": {},
   "outputs": [
    {
     "data": {
      "text/plain": [
       "{1: 45, 2: 67, 3: 45, 4: 68, 5: 45}"
      ]
     },
     "execution_count": 79,
     "metadata": {},
     "output_type": "execute_result"
    }
   ],
   "source": [
    "d1"
   ]
  },
  {
   "cell_type": "code",
   "execution_count": 80,
   "id": "0e22a3ff",
   "metadata": {},
   "outputs": [
    {
     "data": {
      "text/plain": [
       "45"
      ]
     },
     "execution_count": 80,
     "metadata": {},
     "output_type": "execute_result"
    }
   ],
   "source": [
    "d1[3]"
   ]
  },
  {
   "cell_type": "code",
   "execution_count": 81,
   "id": "24be019b",
   "metadata": {},
   "outputs": [],
   "source": [
    "d1[8]= 100"
   ]
  },
  {
   "cell_type": "code",
   "execution_count": 82,
   "id": "e26b75fe",
   "metadata": {},
   "outputs": [
    {
     "data": {
      "text/plain": [
       "{1: 45, 2: 67, 3: 45, 4: 68, 5: 45, 8: 100}"
      ]
     },
     "execution_count": 82,
     "metadata": {},
     "output_type": "execute_result"
    }
   ],
   "source": [
    "d1"
   ]
  },
  {
   "cell_type": "code",
   "execution_count": 85,
   "id": "7008120a",
   "metadata": {},
   "outputs": [
    {
     "data": {
      "text/plain": [
       "100"
      ]
     },
     "execution_count": 85,
     "metadata": {},
     "output_type": "execute_result"
    }
   ],
   "source": [
    "d1[8]"
   ]
  },
  {
   "cell_type": "code",
   "execution_count": 86,
   "id": "ef45f647",
   "metadata": {},
   "outputs": [],
   "source": [
    "d1[10] =[43,23,16]"
   ]
  },
  {
   "cell_type": "code",
   "execution_count": 87,
   "id": "f4687f98",
   "metadata": {},
   "outputs": [
    {
     "data": {
      "text/plain": [
       "{1: 45, 2: 67, 3: 45, 4: 68, 5: 45, 8: 100, 10: [43, 23, 16]}"
      ]
     },
     "execution_count": 87,
     "metadata": {},
     "output_type": "execute_result"
    }
   ],
   "source": [
    "d1"
   ]
  },
  {
   "cell_type": "code",
   "execution_count": 88,
   "id": "993fa4a6",
   "metadata": {},
   "outputs": [
    {
     "data": {
      "text/plain": [
       "{1: 45, 2: 67, 3: 45, 4: 68, 5: 45, 8: 100, 10: [43, 23, 16], 'a': 'Apple'}"
      ]
     },
     "execution_count": 88,
     "metadata": {},
     "output_type": "execute_result"
    }
   ],
   "source": [
    "d1['a']= 'Apple'\n",
    "d1"
   ]
  },
  {
   "cell_type": "code",
   "execution_count": 89,
   "id": "9bb931b6",
   "metadata": {},
   "outputs": [
    {
     "data": {
      "text/plain": [
       "[1, 2, 3, 4, 5, 8, 10, 'a']"
      ]
     },
     "execution_count": 89,
     "metadata": {},
     "output_type": "execute_result"
    }
   ],
   "source": [
    "list(d1.keys())"
   ]
  },
  {
   "cell_type": "code",
   "execution_count": 90,
   "id": "2cf0a542",
   "metadata": {},
   "outputs": [
    {
     "data": {
      "text/plain": [
       "[45, 67, 45, 68, 45, 100, [43, 23, 16], 'Apple']"
      ]
     },
     "execution_count": 90,
     "metadata": {},
     "output_type": "execute_result"
    }
   ],
   "source": [
    "list(d1.values())"
   ]
  },
  {
   "cell_type": "code",
   "execution_count": 91,
   "id": "46b5b21d",
   "metadata": {},
   "outputs": [
    {
     "data": {
      "text/plain": [
       "[(1, 45),\n",
       " (2, 67),\n",
       " (3, 45),\n",
       " (4, 68),\n",
       " (5, 45),\n",
       " (8, 100),\n",
       " (10, [43, 23, 16]),\n",
       " ('a', 'Apple')]"
      ]
     },
     "execution_count": 91,
     "metadata": {},
     "output_type": "execute_result"
    }
   ],
   "source": [
    "list(d1.items())"
   ]
  },
  {
   "cell_type": "markdown",
   "id": "f95c751d",
   "metadata": {},
   "source": [
    "# Set"
   ]
  },
  {
   "cell_type": "code",
   "execution_count": 92,
   "id": "7c06eb0a",
   "metadata": {},
   "outputs": [],
   "source": [
    "s = {45, 67,54, 45,78.99}"
   ]
  },
  {
   "cell_type": "code",
   "execution_count": 93,
   "id": "dd8f2ec2",
   "metadata": {},
   "outputs": [
    {
     "data": {
      "text/plain": [
       "{45, 54, 67, 78.99}"
      ]
     },
     "execution_count": 93,
     "metadata": {},
     "output_type": "execute_result"
    }
   ],
   "source": [
    "s"
   ]
  },
  {
   "cell_type": "code",
   "execution_count": 94,
   "id": "c53880de",
   "metadata": {},
   "outputs": [
    {
     "data": {
      "text/plain": [
       "set"
      ]
     },
     "execution_count": 94,
     "metadata": {},
     "output_type": "execute_result"
    }
   ],
   "source": [
    "type(s)"
   ]
  },
  {
   "cell_type": "code",
   "execution_count": 95,
   "id": "887e0b7f",
   "metadata": {},
   "outputs": [
    {
     "ename": "TypeError",
     "evalue": "'set' object is not subscriptable",
     "output_type": "error",
     "traceback": [
      "\u001b[0;31m---------------------------------------------------------------------------\u001b[0m",
      "\u001b[0;31mTypeError\u001b[0m                                 Traceback (most recent call last)",
      "Cell \u001b[0;32mIn[95], line 1\u001b[0m\n\u001b[0;32m----> 1\u001b[0m s[\u001b[38;5;241m1\u001b[39m]\n",
      "\u001b[0;31mTypeError\u001b[0m: 'set' object is not subscriptable"
     ]
    }
   ],
   "source": [
    "s[1]"
   ]
  },
  {
   "cell_type": "code",
   "execution_count": 96,
   "id": "08f6fed9",
   "metadata": {},
   "outputs": [],
   "source": [
    "s.add(100)"
   ]
  },
  {
   "cell_type": "code",
   "execution_count": 97,
   "id": "a38569cc",
   "metadata": {},
   "outputs": [
    {
     "data": {
      "text/plain": [
       "{45, 54, 67, 78.99, 100}"
      ]
     },
     "execution_count": 97,
     "metadata": {},
     "output_type": "execute_result"
    }
   ],
   "source": [
    "s"
   ]
  },
  {
   "cell_type": "code",
   "execution_count": 98,
   "id": "f30d89b6",
   "metadata": {},
   "outputs": [
    {
     "data": {
      "text/plain": [
       "{2, 45, 54, 67, 78.99, 100}"
      ]
     },
     "execution_count": 98,
     "metadata": {},
     "output_type": "execute_result"
    }
   ],
   "source": [
    "s.add(2)\n",
    "s"
   ]
  },
  {
   "cell_type": "code",
   "execution_count": 99,
   "id": "56e7acba",
   "metadata": {},
   "outputs": [
    {
     "data": {
      "text/plain": [
       "frozenset({2, 45, 54, 67, 78.99, 100})"
      ]
     },
     "execution_count": 99,
     "metadata": {},
     "output_type": "execute_result"
    }
   ],
   "source": [
    "frozenset(s)"
   ]
  },
  {
   "cell_type": "code",
   "execution_count": null,
   "id": "d2498ff7",
   "metadata": {},
   "outputs": [],
   "source": []
  }
 ],
 "metadata": {
  "kernelspec": {
   "display_name": "Python 3 (ipykernel)",
   "language": "python",
   "name": "python3"
  },
  "language_info": {
   "codemirror_mode": {
    "name": "ipython",
    "version": 3
   },
   "file_extension": ".py",
   "mimetype": "text/x-python",
   "name": "python",
   "nbconvert_exporter": "python",
   "pygments_lexer": "ipython3",
   "version": "3.11.5"
  }
 },
 "nbformat": 4,
 "nbformat_minor": 5
}
