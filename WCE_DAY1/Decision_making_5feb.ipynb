{
 "cells": [
  {
   "cell_type": "code",
   "execution_count": 5,
   "id": "ec5af956",
   "metadata": {},
   "outputs": [],
   "source": [
    "num = 30"
   ]
  },
  {
   "cell_type": "code",
   "execution_count": 6,
   "id": "3995a530",
   "metadata": {},
   "outputs": [],
   "source": [
    "if num > 40:\n",
    "    print('Ok')"
   ]
  },
  {
   "cell_type": "code",
   "execution_count": 7,
   "id": "0ff5166d",
   "metadata": {},
   "outputs": [
    {
     "name": "stdout",
     "output_type": "stream",
     "text": [
      "Not ok\n"
     ]
    }
   ],
   "source": [
    "if num > 40:\n",
    "    print('ok')\n",
    "else:\n",
    "    print('Not ok')"
   ]
  },
  {
   "cell_type": "code",
   "execution_count": 11,
   "id": "1e3bec6f",
   "metadata": {},
   "outputs": [
    {
     "name": "stdout",
     "output_type": "stream",
     "text": [
      "Enter the number 0\n",
      "Zero\n"
     ]
    }
   ],
   "source": [
    "# check if the number is positive or negative\n",
    "\n",
    "num = int(input('Enter the number '))\n",
    "\n",
    "if num > 0:\n",
    "    print('Positive')\n",
    "elif num == 0:\n",
    "    print('Zero')\n",
    "else:\n",
    "    print('negative')"
   ]
  },
  {
   "cell_type": "code",
   "execution_count": 12,
   "id": "293137f5",
   "metadata": {},
   "outputs": [
    {
     "name": "stdout",
     "output_type": "stream",
     "text": [
      "Enter the number 5\n",
      "odd\n"
     ]
    }
   ],
   "source": [
    "# check if the number is even or odd\n",
    "\n",
    "num = int(input('Enter the number '))\n",
    "\n",
    "if num % 2 == 0:\n",
    "    print('Even')\n",
    "    \n",
    "else:\n",
    "    print('odd')"
   ]
  },
  {
   "cell_type": "code",
   "execution_count": 13,
   "id": "d737a82a",
   "metadata": {},
   "outputs": [
    {
     "name": "stdout",
     "output_type": "stream",
     "text": [
      "Enter the number 56\n",
      "Correct\n"
     ]
    }
   ],
   "source": [
    "# check if the number is in between 50 and 100\n",
    "\n",
    "num = int(input('Enter the number '))\n",
    "\n",
    "if num > 50 and num < 100:\n",
    "    print('Correct')\n",
    "else:\n",
    "    print('Not Correct')"
   ]
  },
  {
   "cell_type": "code",
   "execution_count": 15,
   "id": "c7395966",
   "metadata": {},
   "outputs": [
    {
     "name": "stdout",
     "output_type": "stream",
     "text": [
      "Enter the number 6\n",
      "Not correct\n"
     ]
    }
   ],
   "source": [
    "num = int(input('Enter the number '))\n",
    "\n",
    "if num > 50:\n",
    "    if num < 100:\n",
    "        print('Correct')\n",
    "    else:\n",
    "        print('Greater than 100')\n",
    "else:\n",
    "    print('Not correct')"
   ]
  },
  {
   "cell_type": "code",
   "execution_count": 16,
   "id": "616679ef",
   "metadata": {},
   "outputs": [
    {
     "name": "stdout",
     "output_type": "stream",
     "text": [
      "Enter the 1st number 10\n",
      "Enter 2nd the number 20\n",
      "Enter 2nd the number 30\n",
      "Greatest is  30\n"
     ]
    }
   ],
   "source": [
    "# take 3 user inputs find the greater\n",
    "\n",
    "num1 = int(input('Enter the 1st number '))\n",
    "num2 = int(input('Enter 2nd the number '))\n",
    "num3 = int(input('Enter 2nd the number '))\n",
    "\n",
    "if num1 > num2:\n",
    "    if num1 > num3:\n",
    "        print('Greatest is ', num1)\n",
    "    else:\n",
    "        print('Greatest is ', num3)\n",
    "else:\n",
    "    if num2 > num3:\n",
    "        print('Greatest is ', num2)\n",
    "    else:\n",
    "        print('Greatest is ', num3)"
   ]
  },
  {
   "cell_type": "code",
   "execution_count": 21,
   "id": "497169bd",
   "metadata": {},
   "outputs": [
    {
     "name": "stdout",
     "output_type": "stream",
     "text": [
      "Enter the year 1900\n",
      "Not a leap year\n"
     ]
    }
   ],
   "source": [
    "# Leap year programm\n",
    "# 2020 - leap\n",
    "# 2017 - not leap\n",
    "# 2000 - leap\n",
    "# 1800 - not leap\n",
    "\n",
    "year = int(input('Enter the year '))\n",
    "\n",
    "if year % 4 == 0:\n",
    "    if year % 100 == 0:\n",
    "        if year % 400 == 0:\n",
    "            print('It is a leap year')\n",
    "        else:\n",
    "            print('Not a leap year')\n",
    "    else:\n",
    "        print('It is a leap year')\n",
    "        \n",
    "else:\n",
    "    print('Not a leap year')"
   ]
  },
  {
   "cell_type": "code",
   "execution_count": 24,
   "id": "2328ffb6",
   "metadata": {},
   "outputs": [
    {
     "name": "stdout",
     "output_type": "stream",
     "text": [
      "Enter the number 10\n",
      "MENU\n",
      "1.Square\n",
      "2.Cube\n",
      "3.positive or negative\n",
      "Enter your choice 2\n",
      "Cube is 1000\n"
     ]
    }
   ],
   "source": [
    "# Menu driven\n",
    "\n",
    "'''\n",
    "1. square\n",
    "2. cube\n",
    "3. positive or negative\n",
    "'''\n",
    "\n",
    "num = int(input('Enter the number '))\n",
    "\n",
    "print('MENU\\n1.Square\\n2.Cube\\n3.positive or negative')\n",
    "\n",
    "ch = int(input('Enter your choice '))\n",
    "\n",
    "if ch == 1:\n",
    "    print('Square is', num * num)\n",
    "elif ch == 2:\n",
    "    print('Cube is', num ** 3)\n",
    "elif ch == 3:\n",
    "    if num > 0:\n",
    "        print('Positive')\n",
    "    else:\n",
    "        print('Negative')\n",
    "else:\n",
    "    print('Invalid choice')"
   ]
  },
  {
   "cell_type": "markdown",
   "id": "3f5e79a4",
   "metadata": {},
   "source": [
    "# WHILE LOOP"
   ]
  },
  {
   "cell_type": "code",
   "execution_count": 25,
   "id": "fd3351e3",
   "metadata": {},
   "outputs": [
    {
     "name": "stdout",
     "output_type": "stream",
     "text": [
      "Aditya\n",
      "Aditya\n",
      "Aditya\n",
      "Aditya\n",
      "Aditya\n"
     ]
    }
   ],
   "source": [
    "count = 1\n",
    "\n",
    "while count < 6:\n",
    "    print('Aditya')\n",
    "    count += 1"
   ]
  },
  {
   "cell_type": "code",
   "execution_count": 26,
   "id": "d803df46",
   "metadata": {},
   "outputs": [
    {
     "name": "stdout",
     "output_type": "stream",
     "text": [
      "1\n",
      "2\n",
      "3\n",
      "4\n",
      "5\n"
     ]
    }
   ],
   "source": [
    "count = 1\n",
    "\n",
    "while count < 6:\n",
    "    print(count)\n",
    "    count += 1"
   ]
  },
  {
   "cell_type": "code",
   "execution_count": 27,
   "id": "3f2cbdbd",
   "metadata": {},
   "outputs": [
    {
     "data": {
      "text/plain": [
       "6"
      ]
     },
     "execution_count": 27,
     "metadata": {},
     "output_type": "execute_result"
    }
   ],
   "source": [
    "count"
   ]
  },
  {
   "cell_type": "code",
   "execution_count": 30,
   "id": "b0cfff32",
   "metadata": {},
   "outputs": [
    {
     "name": "stdout",
     "output_type": "stream",
     "text": [
      "Addition:  55\n"
     ]
    }
   ],
   "source": [
    "# addition of numbers from 1 to 10\n",
    "\n",
    "count = 1\n",
    "add = 0\n",
    "\n",
    "while count <= 10:\n",
    "    add = add + count\n",
    "    count += 1\n",
    "    \n",
    "print('Addition: ', add)"
   ]
  },
  {
   "cell_type": "code",
   "execution_count": 31,
   "id": "7b7c19c5",
   "metadata": {},
   "outputs": [
    {
     "name": "stdout",
     "output_type": "stream",
     "text": [
      "Addition:  100\n"
     ]
    }
   ],
   "source": [
    "# addition of odd numbers from 1 to 20\n",
    "\n",
    "count = 1\n",
    "add = 0\n",
    "\n",
    "while count <= 20:\n",
    "    add = add + count\n",
    "    count += 2\n",
    "    \n",
    "print('Addition: ', add)"
   ]
  },
  {
   "cell_type": "code",
   "execution_count": 32,
   "id": "5527f901",
   "metadata": {},
   "outputs": [
    {
     "name": "stdout",
     "output_type": "stream",
     "text": [
      "Enter the number 12345\n",
      "Addition of numbers:  15\n"
     ]
    }
   ],
   "source": [
    "# take user input find the sum of digits of a number\n",
    "# ex => 12345 => 15\n",
    "\n",
    "num = int(input('Enter the number '))\n",
    "\n",
    "add = 0\n",
    "\n",
    "while num > 0:\n",
    "    rem = num % 10\n",
    "    add += rem\n",
    "    num = num // 10\n",
    "    \n",
    "print('Addition of numbers: ', add)"
   ]
  },
  {
   "cell_type": "markdown",
   "id": "1eedd501",
   "metadata": {},
   "source": [
    "# For Loop"
   ]
  },
  {
   "cell_type": "code",
   "execution_count": 33,
   "id": "afeed5d4",
   "metadata": {},
   "outputs": [
    {
     "name": "stdout",
     "output_type": "stream",
     "text": [
      "34\n",
      "56\n",
      "78\n",
      "43\n",
      "22\n"
     ]
    }
   ],
   "source": [
    "for n in 34,56,78,43,22:\n",
    "    print(n)"
   ]
  },
  {
   "cell_type": "code",
   "execution_count": 34,
   "id": "92047425",
   "metadata": {},
   "outputs": [
    {
     "name": "stdout",
     "output_type": "stream",
     "text": [
      "1156\n",
      "3136\n",
      "6084\n",
      "1849\n",
      "484\n"
     ]
    }
   ],
   "source": [
    "for n in 34,56,78,43,22:\n",
    "    print(n * n)"
   ]
  },
  {
   "cell_type": "code",
   "execution_count": 39,
   "id": "42fdc0f8",
   "metadata": {},
   "outputs": [
    {
     "data": {
      "text/plain": [
       "[3, 5, 7, 9, 11, 13, 15, 17, 19]"
      ]
     },
     "execution_count": 39,
     "metadata": {},
     "output_type": "execute_result"
    }
   ],
   "source": [
    "# Range function\n",
    "\n",
    "list(range(3,20,2))"
   ]
  },
  {
   "cell_type": "code",
   "execution_count": 40,
   "id": "856c93cd",
   "metadata": {},
   "outputs": [
    {
     "name": "stdout",
     "output_type": "stream",
     "text": [
      "0\n",
      "1\n",
      "2\n",
      "3\n",
      "4\n",
      "5\n",
      "6\n",
      "7\n",
      "8\n",
      "9\n"
     ]
    }
   ],
   "source": [
    "for n in range(10):\n",
    "    print(n)"
   ]
  },
  {
   "cell_type": "code",
   "execution_count": 41,
   "id": "79ecca90",
   "metadata": {},
   "outputs": [
    {
     "name": "stdout",
     "output_type": "stream",
     "text": [
      "Aditya\n",
      "Aditya\n",
      "Aditya\n",
      "Aditya\n",
      "Aditya\n",
      "Aditya\n",
      "Aditya\n",
      "Aditya\n",
      "Aditya\n",
      "Aditya\n"
     ]
    }
   ],
   "source": [
    "for n in range(10):\n",
    "    print('Aditya')"
   ]
  },
  {
   "cell_type": "code",
   "execution_count": 42,
   "id": "0eeece24",
   "metadata": {},
   "outputs": [
    {
     "name": "stdout",
     "output_type": "stream",
     "text": [
      "Addition is:  55\n"
     ]
    }
   ],
   "source": [
    "# addition of first 10 natural numbers\n",
    "\n",
    "add = 0\n",
    "for i in range(1,11):\n",
    "    add += i\n",
    "    \n",
    "print('Addition is: ', add)"
   ]
  },
  {
   "cell_type": "code",
   "execution_count": 43,
   "id": "fc30d9fe",
   "metadata": {},
   "outputs": [
    {
     "name": "stdout",
     "output_type": "stream",
     "text": [
      "0\n",
      "1\n",
      "2\n",
      "3\n",
      "4\n"
     ]
    }
   ],
   "source": [
    "# break\n",
    "\n",
    "for x in range(10):\n",
    "    if x == 5:\n",
    "        break\n",
    "    print(x)"
   ]
  },
  {
   "cell_type": "code",
   "execution_count": 44,
   "id": "d2c6368c",
   "metadata": {},
   "outputs": [
    {
     "name": "stdout",
     "output_type": "stream",
     "text": [
      "0\n",
      "1\n",
      "2\n",
      "3\n",
      "4\n",
      "6\n",
      "7\n",
      "8\n",
      "9\n"
     ]
    }
   ],
   "source": [
    "# Continue\n",
    "\n",
    "for x in range(10):\n",
    "    if x == 5:\n",
    "        continue\n",
    "    print(x)"
   ]
  },
  {
   "cell_type": "code",
   "execution_count": null,
   "id": "611253d3",
   "metadata": {},
   "outputs": [],
   "source": []
  }
 ],
 "metadata": {
  "kernelspec": {
   "display_name": "Python 3 (ipykernel)",
   "language": "python",
   "name": "python3"
  },
  "language_info": {
   "codemirror_mode": {
    "name": "ipython",
    "version": 3
   },
   "file_extension": ".py",
   "mimetype": "text/x-python",
   "name": "python",
   "nbconvert_exporter": "python",
   "pygments_lexer": "ipython3",
   "version": "3.11.5"
  }
 },
 "nbformat": 4,
 "nbformat_minor": 5
}
