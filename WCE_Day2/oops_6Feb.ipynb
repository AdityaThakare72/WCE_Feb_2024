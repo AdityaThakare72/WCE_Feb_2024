{
 "cells": [
  {
   "cell_type": "code",
   "execution_count": 1,
   "id": "81d889e2",
   "metadata": {},
   "outputs": [],
   "source": [
    "class Employee():\n",
    "    pass"
   ]
  },
  {
   "cell_type": "code",
   "execution_count": 2,
   "id": "c15d3bc5",
   "metadata": {},
   "outputs": [],
   "source": [
    "emp1 = Employee()\n",
    "emp2 = Employee()   # insatance of a class"
   ]
  },
  {
   "cell_type": "code",
   "execution_count": 3,
   "id": "d9c5505f",
   "metadata": {},
   "outputs": [
    {
     "name": "stdout",
     "output_type": "stream",
     "text": [
      "<__main__.Employee object at 0x7ffbd00b4f90>\n"
     ]
    }
   ],
   "source": [
    "print(emp1)"
   ]
  },
  {
   "cell_type": "code",
   "execution_count": 4,
   "id": "45d22dc9",
   "metadata": {},
   "outputs": [
    {
     "name": "stdout",
     "output_type": "stream",
     "text": [
      "<__main__.Employee object at 0x7ffbd00b5b10>\n"
     ]
    }
   ],
   "source": [
    "print(emp2)"
   ]
  },
  {
   "cell_type": "code",
   "execution_count": 5,
   "id": "53a2789a",
   "metadata": {},
   "outputs": [],
   "source": [
    "emp1.first = 'Aditya'    # insatnce variables\n",
    "emp1.last = 'Thakare'\n",
    "emp1.salary = 51000\n",
    "\n",
    "emp2.first ='Parag'\n",
    "emp2.last = 'Patel'\n",
    "emp2.salary = 48000"
   ]
  },
  {
   "cell_type": "code",
   "execution_count": 6,
   "id": "2cadc848",
   "metadata": {},
   "outputs": [
    {
     "name": "stdout",
     "output_type": "stream",
     "text": [
      "Aditya\n"
     ]
    }
   ],
   "source": [
    "print(emp1.first)"
   ]
  },
  {
   "cell_type": "code",
   "execution_count": 7,
   "id": "18bba048",
   "metadata": {},
   "outputs": [
    {
     "name": "stdout",
     "output_type": "stream",
     "text": [
      "Patel\n"
     ]
    }
   ],
   "source": [
    "print(emp2.last)"
   ]
  },
  {
   "cell_type": "code",
   "execution_count": 26,
   "id": "0353095e",
   "metadata": {},
   "outputs": [],
   "source": [
    "class Employee():\n",
    "    def __init__ (self, first, last, salary):\n",
    "        self.first = first\n",
    "        self.last = last\n",
    "        self.salary = salary\n",
    "        \n",
    "    def msg(self):\n",
    "        print('First Name:',self.first, '\\nLast Name:', self.last,\n",
    "             '\\nSalary:', self.salary)"
   ]
  },
  {
   "cell_type": "code",
   "execution_count": 27,
   "id": "1fd23dbe",
   "metadata": {},
   "outputs": [],
   "source": [
    "emp1 = Employee('Aditya', 'Thakare', 51000)"
   ]
  },
  {
   "cell_type": "code",
   "execution_count": 28,
   "id": "8b82bd86",
   "metadata": {},
   "outputs": [],
   "source": [
    "emp2 = Employee('Parag', 'Patel', 48000)"
   ]
  },
  {
   "cell_type": "code",
   "execution_count": 29,
   "id": "4daa177a",
   "metadata": {},
   "outputs": [
    {
     "name": "stdout",
     "output_type": "stream",
     "text": [
      "51000\n"
     ]
    }
   ],
   "source": [
    "print(emp1.salary)"
   ]
  },
  {
   "cell_type": "code",
   "execution_count": 30,
   "id": "08a0a115",
   "metadata": {},
   "outputs": [
    {
     "name": "stdout",
     "output_type": "stream",
     "text": [
      "First Name: Aditya \n",
      "Last Name: Thakare \n",
      "Salary: 51000\n"
     ]
    }
   ],
   "source": [
    "emp1.msg()"
   ]
  },
  {
   "cell_type": "code",
   "execution_count": 57,
   "id": "e902bf64",
   "metadata": {},
   "outputs": [],
   "source": [
    "# Encapsulation\n",
    "# making public variables private using __\n",
    "\n",
    "class Employee():\n",
    "    def __init__ (self, first, last, salary):\n",
    "        self.first = first\n",
    "        self.last = last\n",
    "        self.__salary = salary\n",
    "        \n",
    "    def msg(self):\n",
    "        print('First Name:',self.first, '\\nLast Name:', self.last,\n",
    "             '\\nSalary:', self.salary)"
   ]
  },
  {
   "cell_type": "code",
   "execution_count": 58,
   "id": "5a70a161",
   "metadata": {},
   "outputs": [],
   "source": [
    "emp1 = Employee('Aditya', 'Thakare', 51000)"
   ]
  },
  {
   "cell_type": "code",
   "execution_count": 59,
   "id": "fa4cf3ba",
   "metadata": {},
   "outputs": [],
   "source": [
    "emp2 = Employee('Parag', 'Patel', 48000)"
   ]
  },
  {
   "cell_type": "code",
   "execution_count": 60,
   "id": "8ffb12bb",
   "metadata": {},
   "outputs": [
    {
     "ename": "AttributeError",
     "evalue": "'Employee' object has no attribute 'salary'",
     "output_type": "error",
     "traceback": [
      "\u001b[0;31m---------------------------------------------------------------------------\u001b[0m",
      "\u001b[0;31mAttributeError\u001b[0m                            Traceback (most recent call last)",
      "Cell \u001b[0;32mIn[60], line 1\u001b[0m\n\u001b[0;32m----> 1\u001b[0m \u001b[38;5;28mprint\u001b[39m(emp1\u001b[38;5;241m.\u001b[39msalary)\n",
      "\u001b[0;31mAttributeError\u001b[0m: 'Employee' object has no attribute 'salary'"
     ]
    }
   ],
   "source": [
    "print(emp1.salary)"
   ]
  },
  {
   "cell_type": "code",
   "execution_count": 61,
   "id": "04b2ecf7",
   "metadata": {},
   "outputs": [
    {
     "name": "stdout",
     "output_type": "stream",
     "text": [
      "Aditya\n"
     ]
    }
   ],
   "source": [
    "print(emp1.first)"
   ]
  },
  {
   "cell_type": "code",
   "execution_count": 62,
   "id": "cd02aa87",
   "metadata": {},
   "outputs": [],
   "source": [
    "# Inheritance"
   ]
  },
  {
   "cell_type": "code",
   "execution_count": 63,
   "id": "0e74837d",
   "metadata": {},
   "outputs": [],
   "source": [
    "class Employee2(Employee):\n",
    "    pass"
   ]
  },
  {
   "cell_type": "code",
   "execution_count": 64,
   "id": "c3bf69db",
   "metadata": {},
   "outputs": [],
   "source": [
    "emp3 = Employee2('Riya', 'Sharma', 45000)"
   ]
  },
  {
   "cell_type": "code",
   "execution_count": 66,
   "id": "a6c5844e",
   "metadata": {},
   "outputs": [
    {
     "data": {
      "text/plain": [
       "'Riya'"
      ]
     },
     "execution_count": 66,
     "metadata": {},
     "output_type": "execute_result"
    }
   ],
   "source": [
    "emp3.first"
   ]
  },
  {
   "cell_type": "code",
   "execution_count": null,
   "id": "3762ed38",
   "metadata": {},
   "outputs": [],
   "source": []
  }
 ],
 "metadata": {
  "kernelspec": {
   "display_name": "Python 3 (ipykernel)",
   "language": "python",
   "name": "python3"
  },
  "language_info": {
   "codemirror_mode": {
    "name": "ipython",
    "version": 3
   },
   "file_extension": ".py",
   "mimetype": "text/x-python",
   "name": "python",
   "nbconvert_exporter": "python",
   "pygments_lexer": "ipython3",
   "version": "3.11.5"
  }
 },
 "nbformat": 4,
 "nbformat_minor": 5
}
